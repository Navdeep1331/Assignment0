{
  "nbformat": 4,
  "nbformat_minor": 0,
  "metadata": {
    "colab": {
      "provenance": [],
      "include_colab_link": true
    },
    "kernelspec": {
      "name": "python3",
      "display_name": "Python 3"
    },
    "language_info": {
      "name": "python"
    }
  },
  "cells": [
    {
      "cell_type": "markdown",
      "metadata": {
        "id": "view-in-github",
        "colab_type": "text"
      },
      "source": [
        "<a href=\"https://colab.research.google.com/github/Navdeep1331/Assignment0/blob/main/assignment0.ipynb\" target=\"_parent\"><img src=\"https://colab.research.google.com/assets/colab-badge.svg\" alt=\"Open In Colab\"/></a>"
      ]
    },
    {
      "cell_type": "markdown",
      "source": [
        "# Assignment 0\n",
        "**Instrunctions for the assignment** \\\\\n",
        "\n",
        "*   Open Google Colab: Begin by launching Google Colab and creating a new Python notebook.\n",
        "*   Read Comments Carefully: Pay close attention to the comments provided within the codeblocks.\n",
        "\n",
        "\n",
        "*   Code Block Completion: Fill in the codeblocks as per the instructions given in the comments.\n",
        "*   Avoid Copying: Ensure that you understand the concepts and refrain from directly copying code from external sources.\n",
        "\n",
        "\n",
        "*   Execute Codeblocks: Verify that each codeblock runs without errors by executing them.\n",
        "*   Save and Submit: Once you've completed the assignment, save your notebook and follow the submission guidelines provided by your instructor.\n",
        "\n",
        "\n",
        "\n",
        "\n",
        "\n",
        "\n",
        "\n",
        "\n",
        "\n",
        "\n",
        "**Notes:**\n",
        "\n",
        "Encouragement: Take your time to understand the concepts behind each codeblock. This assignment aims to strengthen your Python programming skills. \\\\\n",
        "Good Luck! : If you have any questions or require clarification on any aspect of the instructions, feel free to ask. \\\\\n",
        " \\\\\n",
        "\n",
        "Best wishes for your assignment! These instructions are crafted to provide clarity and guidance as you work through the tasks in Google Colab.\n",
        "\n",
        "\n",
        "\n",
        "\n",
        "\n",
        "\n",
        "\n"
      ],
      "metadata": {
        "id": "U2p472EZsFQh"
      }
    },
    {
      "cell_type": "markdown",
      "source": [
        "## Getting Started\n",
        "Solving these exercises will help make you a better programmer. Solve them in order, because each solution builds scaffolding, working code, and knowledge you can use on future problems. Read the directions carefully, and have fun!\n",
        "\n",
        "\n",
        "\n",
        "*   To save your work to your Google Drive, go to File then \"Save Copy in Drive\".\n",
        "*   Your own work will now appear in your Google Drive account!\n",
        "*   Work on this copy as directed"
      ],
      "metadata": {
        "id": "jGDFomGq3i87"
      }
    },
    {
      "cell_type": "markdown",
      "source": [
        "## What to do when you don't know what to do next\n",
        "- When the exercise asks you to reverse an list, the way forward is to search for \"How to reverse a list in Python\" in your favorite search engine.\n",
        "- When the exercise asks you to check if a number is even, the way forward is to search for \"how to check if a number is even in Python\".\n",
        "- When the exercise has you calculate the area of a circle, the way forward is to search for \"how to calculate the area of a circle in Python\" or \"How to get pi in Python\".\n",
        "\n",
        "😀😀"
      ],
      "metadata": {
        "id": "jZ1hWiMO4TTN"
      }
    },
    {
      "cell_type": "markdown",
      "source": [
        "## Basic Python Exercises"
      ],
      "metadata": {
        "id": "LKjbv4-Mmp3_"
      }
    },
    {
      "cell_type": "markdown",
      "source": [
        "1. Create a new list from two list \\\\\n",
        "list1 = [10, 20, 25, 30, 35] \\\\\n",
        "list2 = [40, 45, 60, 75, 90]"
      ],
      "metadata": {
        "id": "POUIXeAkoAJy"
      }
    },
    {
      "cell_type": "code",
      "source": [
        "import numpy as np\n",
        "list1 = [10, 20, 25, 30, 35]\n",
        "list2 = [40, 45, 60, 75, 90]\n",
        "\n",
        "list3 = list1 + list2\n",
        "print(list3)"
      ],
      "metadata": {
        "id": "083WsOfvmz3k",
        "colab": {
          "base_uri": "https://localhost:8080/"
        },
        "outputId": "cbdcc75f-4770-4c84-9925-b7c5f7cfea27"
      },
      "execution_count": null,
      "outputs": [
        {
          "output_type": "stream",
          "name": "stdout",
          "text": [
            "[10, 20, 25, 30, 35, 40, 45, 60, 75, 90]\n"
          ]
        }
      ]
    },
    {
      "cell_type": "markdown",
      "source": [
        "2. Print multiplication table from 1 to 10"
      ],
      "metadata": {
        "id": "mBuOTb3vo7SY"
      }
    },
    {
      "cell_type": "code",
      "source": [
        "import numpy as np\n",
        "for i in range(1,11):\n",
        "  for j in range(1,11):\n",
        "    print(i*j,end=\" \\t\")\n",
        "  print()\n"
      ],
      "metadata": {
        "id": "ALdwhW6uqRTB",
        "colab": {
          "base_uri": "https://localhost:8080/"
        },
        "outputId": "dbae77dd-76a3-4618-9492-cd4d4821c628"
      },
      "execution_count": null,
      "outputs": [
        {
          "output_type": "stream",
          "name": "stdout",
          "text": [
            "1 \t2 \t3 \t4 \t5 \t6 \t7 \t8 \t9 \t10 \t\n",
            "2 \t4 \t6 \t8 \t10 \t12 \t14 \t16 \t18 \t20 \t\n",
            "3 \t6 \t9 \t12 \t15 \t18 \t21 \t24 \t27 \t30 \t\n",
            "4 \t8 \t12 \t16 \t20 \t24 \t28 \t32 \t36 \t40 \t\n",
            "5 \t10 \t15 \t20 \t25 \t30 \t35 \t40 \t45 \t50 \t\n",
            "6 \t12 \t18 \t24 \t30 \t36 \t42 \t48 \t54 \t60 \t\n",
            "7 \t14 \t21 \t28 \t35 \t42 \t49 \t56 \t63 \t70 \t\n",
            "8 \t16 \t24 \t32 \t40 \t48 \t56 \t64 \t72 \t80 \t\n",
            "9 \t18 \t27 \t36 \t45 \t54 \t63 \t72 \t81 \t90 \t\n",
            "10 \t20 \t30 \t40 \t50 \t60 \t70 \t80 \t90 \t100 \t\n"
          ]
        }
      ]
    },
    {
      "cell_type": "markdown",
      "source": [
        "3. Print a downward Half-Pyramid Pattern\n",
        "\n",
        "0 0 0 0 0   \n",
        "0 0 0 0 <br>\n",
        "0 0 0 <br>\n",
        "0 0 <br>\n",
        "0"
      ],
      "metadata": {
        "id": "rXhutUXXqR5x"
      }
    },
    {
      "cell_type": "code",
      "source": [
        "import numpy as np\n",
        "for i in range(5,0,-1):\n",
        "  for j in range(i):\n",
        "    print(0,end=\" \")\n",
        "  print()"
      ],
      "metadata": {
        "id": "U9j7N1nrtw--",
        "colab": {
          "base_uri": "https://localhost:8080/"
        },
        "outputId": "92dd8c9c-d806-4507-ef1d-92e644663fbc"
      },
      "execution_count": null,
      "outputs": [
        {
          "output_type": "stream",
          "name": "stdout",
          "text": [
            "0 0 0 0 0 \n",
            "0 0 0 0 \n",
            "0 0 0 \n",
            "0 0 \n",
            "0 \n"
          ]
        }
      ]
    },
    {
      "cell_type": "markdown",
      "source": [
        " 4. Given the following assignment of the vegetables list, add \"tomato\" to the end of the list and sort them in alphabetical order.\\\n",
        "vegetables = [\"eggplant\", \"broccoli\", \"carrot\",\"cauliflower\", \"zucchini\"]"
      ],
      "metadata": {
        "id": "Re-QzSX4ugH-"
      }
    },
    {
      "cell_type": "code",
      "source": [
        "vegetables = [\"eggplant\", \"broccoli\", \"carrot\",\"cauliflower\", \"zucchini\"]\n",
        "vegetables.append(\"tomato\")\n",
        "vegetables.sort()\n",
        "print(vegetables)"
      ],
      "metadata": {
        "id": "hnA-2EIDuxEH",
        "colab": {
          "base_uri": "https://localhost:8080/"
        },
        "outputId": "9ed5c994-28a6-4329-9f08-e645ccaf37f8"
      },
      "execution_count": null,
      "outputs": [
        {
          "output_type": "stream",
          "name": "stdout",
          "text": [
            "['broccoli', 'carrot', 'cauliflower', 'eggplant', 'tomato', 'zucchini']\n"
          ]
        }
      ]
    },
    {
      "cell_type": "markdown",
      "source": [
        "5. Write a function definition named is_odd that takes in a number and returns True or False if that number is odd."
      ],
      "metadata": {
        "id": "ARyaOlp8uxix"
      }
    },
    {
      "cell_type": "code",
      "source": [
        "def odd(x):\n",
        "  if x%2 != 0:\n",
        "    return True\n",
        "  else:\n",
        "    return False"
      ],
      "metadata": {
        "id": "OztCSuVjvACz"
      },
      "execution_count": null,
      "outputs": []
    },
    {
      "cell_type": "markdown",
      "source": [
        "6. Write a function definition named mode that takes in sequence of numbers and returns the most commonly occuring value"
      ],
      "metadata": {
        "id": "GIAo6YfLu_AJ"
      }
    },
    {
      "cell_type": "code",
      "source": [
        "def mode(x):\n",
        "  count = {}\n",
        "  for i in x:\n",
        "    if i in count:\n",
        "      count[i] += 1\n",
        "    else:\n",
        "      count[i] = 1\n",
        "    return max(count,key.getitem(count))"
      ],
      "metadata": {
        "id": "WEikC1aTvXoS"
      },
      "execution_count": null,
      "outputs": []
    },
    {
      "cell_type": "markdown",
      "source": [
        "## Numpy Exercises"
      ],
      "metadata": {
        "id": "AKuHwB0lvZn-"
      }
    },
    {
      "cell_type": "markdown",
      "source": [
        "Exercise 1: Create a 4X2 integer array and Prints its attributes \\\\\n",
        "**Note:** The element must be a type of unsigned int16. \\\\\n",
        "And print the following Attributes: –\n",
        "\n",
        "\n",
        "\n",
        "1.   The shape of an array.\n",
        "2.   Array dimensions.\n",
        "3.   The Length of each element of the array in bytes.\n",
        "\n",
        "\n",
        "\n",
        "\n",
        "\n"
      ],
      "metadata": {
        "id": "8f2ww678vf5S"
      }
    },
    {
      "cell_type": "code",
      "source": [
        "import numpy as np\n",
        "\n",
        "arr = np.array([[1,2] , [3,4] , [5,6] , [7,8]])\n",
        "\n",
        "print(arr.shape)\n",
        "print(arr.ndim)\n",
        "print(arr.itemsize)\n"
      ],
      "metadata": {
        "id": "2YMq_rbcwTeb",
        "colab": {
          "base_uri": "https://localhost:8080/"
        },
        "outputId": "872af50f-ea5c-4bad-bd93-8fcc4279f036"
      },
      "execution_count": null,
      "outputs": [
        {
          "output_type": "stream",
          "name": "stdout",
          "text": [
            "(4, 2)\n",
            "2\n",
            "8\n"
          ]
        }
      ]
    },
    {
      "cell_type": "markdown",
      "source": [
        "Exercise 2: Following is the provided numPy array. Return array of items by taking the third column from all rows \\\\\n",
        "sampleArray = numpy.array ( [ [ 11 ,22, 33 ], [ 44, 55, 66 ], [ 77, 88, 99 ] ] )"
      ],
      "metadata": {
        "id": "jLVSC8epw0Wz"
      }
    },
    {
      "cell_type": "code",
      "source": [
        "import numpy as np\n",
        "\n",
        "sampleArray = np.array( [ [ 11, 22, 33] ,[44, 55, 66 ], [ 77, 88, 99 ]] )\n",
        "\n",
        "print(sampleArray[:,2])"
      ],
      "metadata": {
        "id": "UVRODBc1wyjl",
        "colab": {
          "base_uri": "https://localhost:8080/"
        },
        "outputId": "30c51314-9514-4166-9640-e864bcb96cb7"
      },
      "execution_count": null,
      "outputs": [
        {
          "output_type": "stream",
          "name": "stdout",
          "text": [
            "[33 66 99]\n"
          ]
        }
      ]
    },
    {
      "cell_type": "markdown",
      "source": [
        "Exercise 3: Sort following NumPy array \\\\\n",
        "Case 1: Sort array by the second row \\\\\n",
        "Case 2: Sort the array by the second column"
      ],
      "metadata": {
        "id": "T72G3kpRxESl"
      }
    },
    {
      "cell_type": "code",
      "source": [
        "import numpy as np\n",
        "\n",
        "sampleArray = np.array([[28, 43, 56], [82, 21, 12], [50, 88, 66]])\n",
        "\n",
        "sorted_indices = np.argsort(sampleArray[1, :])\n",
        "\n",
        "sorted_by_second_row = sampleArray[:, sorted_indices]\n",
        "\n",
        "print(sorted_by_second_row)\n"
      ],
      "metadata": {
        "colab": {
          "base_uri": "https://localhost:8080/"
        },
        "id": "-DWZHH4tufC9",
        "outputId": "130fa821-c72b-45e0-8b62-e77549ac4a9d"
      },
      "execution_count": null,
      "outputs": [
        {
          "output_type": "stream",
          "name": "stdout",
          "text": [
            "[[56 43 28]\n",
            " [12 21 82]\n",
            " [66 88 50]]\n"
          ]
        }
      ]
    },
    {
      "cell_type": "code",
      "source": [
        "import numpy as np\n",
        "\n",
        "sampleArray = np.array([[28, 43, 56], [82, 21, 12], [50, 88, 66]])\n",
        "\n",
        "sorted_indices = np.argsort(sampleArray[:, 1])\n",
        "\n",
        "sorted_by_second_column = sampleArray[sorted_indices, :]\n",
        "\n",
        "print(sorted_by_second_column)\n",
        "\n",
        "\n"
      ],
      "metadata": {
        "id": "kdPN_yoaxULi",
        "colab": {
          "base_uri": "https://localhost:8080/"
        },
        "outputId": "aca1c294-ec79-45b0-93d2-ebd2355cfc5d"
      },
      "execution_count": null,
      "outputs": [
        {
          "output_type": "stream",
          "name": "stdout",
          "text": [
            "[[82 21 12]\n",
            " [28 43 56]\n",
            " [50 88 66]]\n"
          ]
        }
      ]
    },
    {
      "cell_type": "markdown",
      "source": [
        "## Pandas Exercises\n",
        "In this exercise, we are using Automobile Dataset for data analysis. This Dataset has different characteristics of an auto such as body-style, wheel-base, engine-type, price, mileage, horsepower, etc. \\\\\n",
        "https://pynative.com/wp-content/uploads/2019/01/Automobile_data.csv"
      ],
      "metadata": {
        "id": "RUiLxEnkxXKF"
      }
    },
    {
      "cell_type": "markdown",
      "source": [
        "Exercise 1: From the given dataset print the first and last five rows."
      ],
      "metadata": {
        "id": "Bgvaffg70VqZ"
      }
    },
    {
      "cell_type": "code",
      "source": [
        "from google.colab import files\n",
        "uploaded = files.upload()"
      ],
      "metadata": {
        "colab": {
          "base_uri": "https://localhost:8080/",
          "height": 74
        },
        "id": "zWEdPZSZoSmE",
        "outputId": "113c2eea-3ee0-43b2-aecc-a185d99e07a1"
      },
      "execution_count": null,
      "outputs": [
        {
          "output_type": "display_data",
          "data": {
            "text/plain": [
              "<IPython.core.display.HTML object>"
            ],
            "text/html": [
              "\n",
              "     <input type=\"file\" id=\"files-942ee264-52a5-4c7f-8b68-750429d7d389\" name=\"files[]\" multiple disabled\n",
              "        style=\"border:none\" />\n",
              "     <output id=\"result-942ee264-52a5-4c7f-8b68-750429d7d389\">\n",
              "      Upload widget is only available when the cell has been executed in the\n",
              "      current browser session. Please rerun this cell to enable.\n",
              "      </output>\n",
              "      <script>// Copyright 2017 Google LLC\n",
              "//\n",
              "// Licensed under the Apache License, Version 2.0 (the \"License\");\n",
              "// you may not use this file except in compliance with the License.\n",
              "// You may obtain a copy of the License at\n",
              "//\n",
              "//      http://www.apache.org/licenses/LICENSE-2.0\n",
              "//\n",
              "// Unless required by applicable law or agreed to in writing, software\n",
              "// distributed under the License is distributed on an \"AS IS\" BASIS,\n",
              "// WITHOUT WARRANTIES OR CONDITIONS OF ANY KIND, either express or implied.\n",
              "// See the License for the specific language governing permissions and\n",
              "// limitations under the License.\n",
              "\n",
              "/**\n",
              " * @fileoverview Helpers for google.colab Python module.\n",
              " */\n",
              "(function(scope) {\n",
              "function span(text, styleAttributes = {}) {\n",
              "  const element = document.createElement('span');\n",
              "  element.textContent = text;\n",
              "  for (const key of Object.keys(styleAttributes)) {\n",
              "    element.style[key] = styleAttributes[key];\n",
              "  }\n",
              "  return element;\n",
              "}\n",
              "\n",
              "// Max number of bytes which will be uploaded at a time.\n",
              "const MAX_PAYLOAD_SIZE = 100 * 1024;\n",
              "\n",
              "function _uploadFiles(inputId, outputId) {\n",
              "  const steps = uploadFilesStep(inputId, outputId);\n",
              "  const outputElement = document.getElementById(outputId);\n",
              "  // Cache steps on the outputElement to make it available for the next call\n",
              "  // to uploadFilesContinue from Python.\n",
              "  outputElement.steps = steps;\n",
              "\n",
              "  return _uploadFilesContinue(outputId);\n",
              "}\n",
              "\n",
              "// This is roughly an async generator (not supported in the browser yet),\n",
              "// where there are multiple asynchronous steps and the Python side is going\n",
              "// to poll for completion of each step.\n",
              "// This uses a Promise to block the python side on completion of each step,\n",
              "// then passes the result of the previous step as the input to the next step.\n",
              "function _uploadFilesContinue(outputId) {\n",
              "  const outputElement = document.getElementById(outputId);\n",
              "  const steps = outputElement.steps;\n",
              "\n",
              "  const next = steps.next(outputElement.lastPromiseValue);\n",
              "  return Promise.resolve(next.value.promise).then((value) => {\n",
              "    // Cache the last promise value to make it available to the next\n",
              "    // step of the generator.\n",
              "    outputElement.lastPromiseValue = value;\n",
              "    return next.value.response;\n",
              "  });\n",
              "}\n",
              "\n",
              "/**\n",
              " * Generator function which is called between each async step of the upload\n",
              " * process.\n",
              " * @param {string} inputId Element ID of the input file picker element.\n",
              " * @param {string} outputId Element ID of the output display.\n",
              " * @return {!Iterable<!Object>} Iterable of next steps.\n",
              " */\n",
              "function* uploadFilesStep(inputId, outputId) {\n",
              "  const inputElement = document.getElementById(inputId);\n",
              "  inputElement.disabled = false;\n",
              "\n",
              "  const outputElement = document.getElementById(outputId);\n",
              "  outputElement.innerHTML = '';\n",
              "\n",
              "  const pickedPromise = new Promise((resolve) => {\n",
              "    inputElement.addEventListener('change', (e) => {\n",
              "      resolve(e.target.files);\n",
              "    });\n",
              "  });\n",
              "\n",
              "  const cancel = document.createElement('button');\n",
              "  inputElement.parentElement.appendChild(cancel);\n",
              "  cancel.textContent = 'Cancel upload';\n",
              "  const cancelPromise = new Promise((resolve) => {\n",
              "    cancel.onclick = () => {\n",
              "      resolve(null);\n",
              "    };\n",
              "  });\n",
              "\n",
              "  // Wait for the user to pick the files.\n",
              "  const files = yield {\n",
              "    promise: Promise.race([pickedPromise, cancelPromise]),\n",
              "    response: {\n",
              "      action: 'starting',\n",
              "    }\n",
              "  };\n",
              "\n",
              "  cancel.remove();\n",
              "\n",
              "  // Disable the input element since further picks are not allowed.\n",
              "  inputElement.disabled = true;\n",
              "\n",
              "  if (!files) {\n",
              "    return {\n",
              "      response: {\n",
              "        action: 'complete',\n",
              "      }\n",
              "    };\n",
              "  }\n",
              "\n",
              "  for (const file of files) {\n",
              "    const li = document.createElement('li');\n",
              "    li.append(span(file.name, {fontWeight: 'bold'}));\n",
              "    li.append(span(\n",
              "        `(${file.type || 'n/a'}) - ${file.size} bytes, ` +\n",
              "        `last modified: ${\n",
              "            file.lastModifiedDate ? file.lastModifiedDate.toLocaleDateString() :\n",
              "                                    'n/a'} - `));\n",
              "    const percent = span('0% done');\n",
              "    li.appendChild(percent);\n",
              "\n",
              "    outputElement.appendChild(li);\n",
              "\n",
              "    const fileDataPromise = new Promise((resolve) => {\n",
              "      const reader = new FileReader();\n",
              "      reader.onload = (e) => {\n",
              "        resolve(e.target.result);\n",
              "      };\n",
              "      reader.readAsArrayBuffer(file);\n",
              "    });\n",
              "    // Wait for the data to be ready.\n",
              "    let fileData = yield {\n",
              "      promise: fileDataPromise,\n",
              "      response: {\n",
              "        action: 'continue',\n",
              "      }\n",
              "    };\n",
              "\n",
              "    // Use a chunked sending to avoid message size limits. See b/62115660.\n",
              "    let position = 0;\n",
              "    do {\n",
              "      const length = Math.min(fileData.byteLength - position, MAX_PAYLOAD_SIZE);\n",
              "      const chunk = new Uint8Array(fileData, position, length);\n",
              "      position += length;\n",
              "\n",
              "      const base64 = btoa(String.fromCharCode.apply(null, chunk));\n",
              "      yield {\n",
              "        response: {\n",
              "          action: 'append',\n",
              "          file: file.name,\n",
              "          data: base64,\n",
              "        },\n",
              "      };\n",
              "\n",
              "      let percentDone = fileData.byteLength === 0 ?\n",
              "          100 :\n",
              "          Math.round((position / fileData.byteLength) * 100);\n",
              "      percent.textContent = `${percentDone}% done`;\n",
              "\n",
              "    } while (position < fileData.byteLength);\n",
              "  }\n",
              "\n",
              "  // All done.\n",
              "  yield {\n",
              "    response: {\n",
              "      action: 'complete',\n",
              "    }\n",
              "  };\n",
              "}\n",
              "\n",
              "scope.google = scope.google || {};\n",
              "scope.google.colab = scope.google.colab || {};\n",
              "scope.google.colab._files = {\n",
              "  _uploadFiles,\n",
              "  _uploadFilesContinue,\n",
              "};\n",
              "})(self);\n",
              "</script> "
            ]
          },
          "metadata": {}
        },
        {
          "output_type": "stream",
          "name": "stdout",
          "text": [
            "Saving Automobile_data.csv to Automobile_data (1).csv\n"
          ]
        }
      ]
    },
    {
      "cell_type": "code",
      "source": [
        "import pandas as pd\n",
        "\n",
        "stuff = pd.read_csv(\"Automobile_data.csv\")\n",
        "\n",
        "stuff.head(5)\n",
        "stuff[-5:]"
      ],
      "metadata": {
        "colab": {
          "base_uri": "https://localhost:8080/",
          "height": 206
        },
        "id": "LQFszCQroG5o",
        "outputId": "bb51a693-343a-4805-dd97-1bead7c4a22a"
      },
      "execution_count": null,
      "outputs": [
        {
          "output_type": "execute_result",
          "data": {
            "text/plain": [
              "    index     company body-style  wheel-base  length engine-type  \\\n",
              "56     81  volkswagen      sedan        97.3   171.7         ohc   \n",
              "57     82  volkswagen      sedan        97.3   171.7         ohc   \n",
              "58     86  volkswagen      sedan        97.3   171.7         ohc   \n",
              "59     87       volvo      sedan       104.3   188.8         ohc   \n",
              "60     88       volvo      wagon       104.3   188.8         ohc   \n",
              "\n",
              "   num-of-cylinders  horsepower  average-mileage    price  \n",
              "56             four          85               27   7975.0  \n",
              "57             four          52               37   7995.0  \n",
              "58             four         100               26   9995.0  \n",
              "59             four         114               23  12940.0  \n",
              "60             four         114               23  13415.0  "
            ],
            "text/html": [
              "\n",
              "  <div id=\"df-7df46735-cccd-486a-8d01-1c274bef2c1d\" class=\"colab-df-container\">\n",
              "    <div>\n",
              "<style scoped>\n",
              "    .dataframe tbody tr th:only-of-type {\n",
              "        vertical-align: middle;\n",
              "    }\n",
              "\n",
              "    .dataframe tbody tr th {\n",
              "        vertical-align: top;\n",
              "    }\n",
              "\n",
              "    .dataframe thead th {\n",
              "        text-align: right;\n",
              "    }\n",
              "</style>\n",
              "<table border=\"1\" class=\"dataframe\">\n",
              "  <thead>\n",
              "    <tr style=\"text-align: right;\">\n",
              "      <th></th>\n",
              "      <th>index</th>\n",
              "      <th>company</th>\n",
              "      <th>body-style</th>\n",
              "      <th>wheel-base</th>\n",
              "      <th>length</th>\n",
              "      <th>engine-type</th>\n",
              "      <th>num-of-cylinders</th>\n",
              "      <th>horsepower</th>\n",
              "      <th>average-mileage</th>\n",
              "      <th>price</th>\n",
              "    </tr>\n",
              "  </thead>\n",
              "  <tbody>\n",
              "    <tr>\n",
              "      <th>56</th>\n",
              "      <td>81</td>\n",
              "      <td>volkswagen</td>\n",
              "      <td>sedan</td>\n",
              "      <td>97.3</td>\n",
              "      <td>171.7</td>\n",
              "      <td>ohc</td>\n",
              "      <td>four</td>\n",
              "      <td>85</td>\n",
              "      <td>27</td>\n",
              "      <td>7975.0</td>\n",
              "    </tr>\n",
              "    <tr>\n",
              "      <th>57</th>\n",
              "      <td>82</td>\n",
              "      <td>volkswagen</td>\n",
              "      <td>sedan</td>\n",
              "      <td>97.3</td>\n",
              "      <td>171.7</td>\n",
              "      <td>ohc</td>\n",
              "      <td>four</td>\n",
              "      <td>52</td>\n",
              "      <td>37</td>\n",
              "      <td>7995.0</td>\n",
              "    </tr>\n",
              "    <tr>\n",
              "      <th>58</th>\n",
              "      <td>86</td>\n",
              "      <td>volkswagen</td>\n",
              "      <td>sedan</td>\n",
              "      <td>97.3</td>\n",
              "      <td>171.7</td>\n",
              "      <td>ohc</td>\n",
              "      <td>four</td>\n",
              "      <td>100</td>\n",
              "      <td>26</td>\n",
              "      <td>9995.0</td>\n",
              "    </tr>\n",
              "    <tr>\n",
              "      <th>59</th>\n",
              "      <td>87</td>\n",
              "      <td>volvo</td>\n",
              "      <td>sedan</td>\n",
              "      <td>104.3</td>\n",
              "      <td>188.8</td>\n",
              "      <td>ohc</td>\n",
              "      <td>four</td>\n",
              "      <td>114</td>\n",
              "      <td>23</td>\n",
              "      <td>12940.0</td>\n",
              "    </tr>\n",
              "    <tr>\n",
              "      <th>60</th>\n",
              "      <td>88</td>\n",
              "      <td>volvo</td>\n",
              "      <td>wagon</td>\n",
              "      <td>104.3</td>\n",
              "      <td>188.8</td>\n",
              "      <td>ohc</td>\n",
              "      <td>four</td>\n",
              "      <td>114</td>\n",
              "      <td>23</td>\n",
              "      <td>13415.0</td>\n",
              "    </tr>\n",
              "  </tbody>\n",
              "</table>\n",
              "</div>\n",
              "    <div class=\"colab-df-buttons\">\n",
              "\n",
              "  <div class=\"colab-df-container\">\n",
              "    <button class=\"colab-df-convert\" onclick=\"convertToInteractive('df-7df46735-cccd-486a-8d01-1c274bef2c1d')\"\n",
              "            title=\"Convert this dataframe to an interactive table.\"\n",
              "            style=\"display:none;\">\n",
              "\n",
              "  <svg xmlns=\"http://www.w3.org/2000/svg\" height=\"24px\" viewBox=\"0 -960 960 960\">\n",
              "    <path d=\"M120-120v-720h720v720H120Zm60-500h600v-160H180v160Zm220 220h160v-160H400v160Zm0 220h160v-160H400v160ZM180-400h160v-160H180v160Zm440 0h160v-160H620v160ZM180-180h160v-160H180v160Zm440 0h160v-160H620v160Z\"/>\n",
              "  </svg>\n",
              "    </button>\n",
              "\n",
              "  <style>\n",
              "    .colab-df-container {\n",
              "      display:flex;\n",
              "      gap: 12px;\n",
              "    }\n",
              "\n",
              "    .colab-df-convert {\n",
              "      background-color: #E8F0FE;\n",
              "      border: none;\n",
              "      border-radius: 50%;\n",
              "      cursor: pointer;\n",
              "      display: none;\n",
              "      fill: #1967D2;\n",
              "      height: 32px;\n",
              "      padding: 0 0 0 0;\n",
              "      width: 32px;\n",
              "    }\n",
              "\n",
              "    .colab-df-convert:hover {\n",
              "      background-color: #E2EBFA;\n",
              "      box-shadow: 0px 1px 2px rgba(60, 64, 67, 0.3), 0px 1px 3px 1px rgba(60, 64, 67, 0.15);\n",
              "      fill: #174EA6;\n",
              "    }\n",
              "\n",
              "    .colab-df-buttons div {\n",
              "      margin-bottom: 4px;\n",
              "    }\n",
              "\n",
              "    [theme=dark] .colab-df-convert {\n",
              "      background-color: #3B4455;\n",
              "      fill: #D2E3FC;\n",
              "    }\n",
              "\n",
              "    [theme=dark] .colab-df-convert:hover {\n",
              "      background-color: #434B5C;\n",
              "      box-shadow: 0px 1px 3px 1px rgba(0, 0, 0, 0.15);\n",
              "      filter: drop-shadow(0px 1px 2px rgba(0, 0, 0, 0.3));\n",
              "      fill: #FFFFFF;\n",
              "    }\n",
              "  </style>\n",
              "\n",
              "    <script>\n",
              "      const buttonEl =\n",
              "        document.querySelector('#df-7df46735-cccd-486a-8d01-1c274bef2c1d button.colab-df-convert');\n",
              "      buttonEl.style.display =\n",
              "        google.colab.kernel.accessAllowed ? 'block' : 'none';\n",
              "\n",
              "      async function convertToInteractive(key) {\n",
              "        const element = document.querySelector('#df-7df46735-cccd-486a-8d01-1c274bef2c1d');\n",
              "        const dataTable =\n",
              "          await google.colab.kernel.invokeFunction('convertToInteractive',\n",
              "                                                    [key], {});\n",
              "        if (!dataTable) return;\n",
              "\n",
              "        const docLinkHtml = 'Like what you see? Visit the ' +\n",
              "          '<a target=\"_blank\" href=https://colab.research.google.com/notebooks/data_table.ipynb>data table notebook</a>'\n",
              "          + ' to learn more about interactive tables.';\n",
              "        element.innerHTML = '';\n",
              "        dataTable['output_type'] = 'display_data';\n",
              "        await google.colab.output.renderOutput(dataTable, element);\n",
              "        const docLink = document.createElement('div');\n",
              "        docLink.innerHTML = docLinkHtml;\n",
              "        element.appendChild(docLink);\n",
              "      }\n",
              "    </script>\n",
              "  </div>\n",
              "\n",
              "\n",
              "<div id=\"df-a1fb6976-5d81-4a5e-b831-8f87162bae34\">\n",
              "  <button class=\"colab-df-quickchart\" onclick=\"quickchart('df-a1fb6976-5d81-4a5e-b831-8f87162bae34')\"\n",
              "            title=\"Suggest charts\"\n",
              "            style=\"display:none;\">\n",
              "\n",
              "<svg xmlns=\"http://www.w3.org/2000/svg\" height=\"24px\"viewBox=\"0 0 24 24\"\n",
              "     width=\"24px\">\n",
              "    <g>\n",
              "        <path d=\"M19 3H5c-1.1 0-2 .9-2 2v14c0 1.1.9 2 2 2h14c1.1 0 2-.9 2-2V5c0-1.1-.9-2-2-2zM9 17H7v-7h2v7zm4 0h-2V7h2v10zm4 0h-2v-4h2v4z\"/>\n",
              "    </g>\n",
              "</svg>\n",
              "  </button>\n",
              "\n",
              "<style>\n",
              "  .colab-df-quickchart {\n",
              "      --bg-color: #E8F0FE;\n",
              "      --fill-color: #1967D2;\n",
              "      --hover-bg-color: #E2EBFA;\n",
              "      --hover-fill-color: #174EA6;\n",
              "      --disabled-fill-color: #AAA;\n",
              "      --disabled-bg-color: #DDD;\n",
              "  }\n",
              "\n",
              "  [theme=dark] .colab-df-quickchart {\n",
              "      --bg-color: #3B4455;\n",
              "      --fill-color: #D2E3FC;\n",
              "      --hover-bg-color: #434B5C;\n",
              "      --hover-fill-color: #FFFFFF;\n",
              "      --disabled-bg-color: #3B4455;\n",
              "      --disabled-fill-color: #666;\n",
              "  }\n",
              "\n",
              "  .colab-df-quickchart {\n",
              "    background-color: var(--bg-color);\n",
              "    border: none;\n",
              "    border-radius: 50%;\n",
              "    cursor: pointer;\n",
              "    display: none;\n",
              "    fill: var(--fill-color);\n",
              "    height: 32px;\n",
              "    padding: 0;\n",
              "    width: 32px;\n",
              "  }\n",
              "\n",
              "  .colab-df-quickchart:hover {\n",
              "    background-color: var(--hover-bg-color);\n",
              "    box-shadow: 0 1px 2px rgba(60, 64, 67, 0.3), 0 1px 3px 1px rgba(60, 64, 67, 0.15);\n",
              "    fill: var(--button-hover-fill-color);\n",
              "  }\n",
              "\n",
              "  .colab-df-quickchart-complete:disabled,\n",
              "  .colab-df-quickchart-complete:disabled:hover {\n",
              "    background-color: var(--disabled-bg-color);\n",
              "    fill: var(--disabled-fill-color);\n",
              "    box-shadow: none;\n",
              "  }\n",
              "\n",
              "  .colab-df-spinner {\n",
              "    border: 2px solid var(--fill-color);\n",
              "    border-color: transparent;\n",
              "    border-bottom-color: var(--fill-color);\n",
              "    animation:\n",
              "      spin 1s steps(1) infinite;\n",
              "  }\n",
              "\n",
              "  @keyframes spin {\n",
              "    0% {\n",
              "      border-color: transparent;\n",
              "      border-bottom-color: var(--fill-color);\n",
              "      border-left-color: var(--fill-color);\n",
              "    }\n",
              "    20% {\n",
              "      border-color: transparent;\n",
              "      border-left-color: var(--fill-color);\n",
              "      border-top-color: var(--fill-color);\n",
              "    }\n",
              "    30% {\n",
              "      border-color: transparent;\n",
              "      border-left-color: var(--fill-color);\n",
              "      border-top-color: var(--fill-color);\n",
              "      border-right-color: var(--fill-color);\n",
              "    }\n",
              "    40% {\n",
              "      border-color: transparent;\n",
              "      border-right-color: var(--fill-color);\n",
              "      border-top-color: var(--fill-color);\n",
              "    }\n",
              "    60% {\n",
              "      border-color: transparent;\n",
              "      border-right-color: var(--fill-color);\n",
              "    }\n",
              "    80% {\n",
              "      border-color: transparent;\n",
              "      border-right-color: var(--fill-color);\n",
              "      border-bottom-color: var(--fill-color);\n",
              "    }\n",
              "    90% {\n",
              "      border-color: transparent;\n",
              "      border-bottom-color: var(--fill-color);\n",
              "    }\n",
              "  }\n",
              "</style>\n",
              "\n",
              "  <script>\n",
              "    async function quickchart(key) {\n",
              "      const quickchartButtonEl =\n",
              "        document.querySelector('#' + key + ' button');\n",
              "      quickchartButtonEl.disabled = true;  // To prevent multiple clicks.\n",
              "      quickchartButtonEl.classList.add('colab-df-spinner');\n",
              "      try {\n",
              "        const charts = await google.colab.kernel.invokeFunction(\n",
              "            'suggestCharts', [key], {});\n",
              "      } catch (error) {\n",
              "        console.error('Error during call to suggestCharts:', error);\n",
              "      }\n",
              "      quickchartButtonEl.classList.remove('colab-df-spinner');\n",
              "      quickchartButtonEl.classList.add('colab-df-quickchart-complete');\n",
              "    }\n",
              "    (() => {\n",
              "      let quickchartButtonEl =\n",
              "        document.querySelector('#df-a1fb6976-5d81-4a5e-b831-8f87162bae34 button');\n",
              "      quickchartButtonEl.style.display =\n",
              "        google.colab.kernel.accessAllowed ? 'block' : 'none';\n",
              "    })();\n",
              "  </script>\n",
              "</div>\n",
              "\n",
              "    </div>\n",
              "  </div>\n"
            ],
            "application/vnd.google.colaboratory.intrinsic+json": {
              "type": "dataframe",
              "summary": "{\n  \"name\": \"stuff[-5:]\",\n  \"rows\": 5,\n  \"fields\": [\n    {\n      \"column\": \"index\",\n      \"properties\": {\n        \"dtype\": \"number\",\n        \"std\": 3,\n        \"min\": 81,\n        \"max\": 88,\n        \"num_unique_values\": 5,\n        \"samples\": [\n          82,\n          88,\n          86\n        ],\n        \"semantic_type\": \"\",\n        \"description\": \"\"\n      }\n    },\n    {\n      \"column\": \"company\",\n      \"properties\": {\n        \"dtype\": \"category\",\n        \"num_unique_values\": 2,\n        \"samples\": [\n          \"volvo\",\n          \"volkswagen\"\n        ],\n        \"semantic_type\": \"\",\n        \"description\": \"\"\n      }\n    },\n    {\n      \"column\": \"body-style\",\n      \"properties\": {\n        \"dtype\": \"category\",\n        \"num_unique_values\": 2,\n        \"samples\": [\n          \"wagon\",\n          \"sedan\"\n        ],\n        \"semantic_type\": \"\",\n        \"description\": \"\"\n      }\n    },\n    {\n      \"column\": \"wheel-base\",\n      \"properties\": {\n        \"dtype\": \"number\",\n        \"std\": 3.834057902536163,\n        \"min\": 97.3,\n        \"max\": 104.3,\n        \"num_unique_values\": 2,\n        \"samples\": [\n          104.3,\n          97.3\n        ],\n        \"semantic_type\": \"\",\n        \"description\": \"\"\n      }\n    },\n    {\n      \"column\": \"length\",\n      \"properties\": {\n        \"dtype\": \"number\",\n        \"std\": 9.366055733338353,\n        \"min\": 171.7,\n        \"max\": 188.8,\n        \"num_unique_values\": 2,\n        \"samples\": [\n          188.8,\n          171.7\n        ],\n        \"semantic_type\": \"\",\n        \"description\": \"\"\n      }\n    },\n    {\n      \"column\": \"engine-type\",\n      \"properties\": {\n        \"dtype\": \"category\",\n        \"num_unique_values\": 1,\n        \"samples\": [\n          \"ohc\"\n        ],\n        \"semantic_type\": \"\",\n        \"description\": \"\"\n      }\n    },\n    {\n      \"column\": \"num-of-cylinders\",\n      \"properties\": {\n        \"dtype\": \"category\",\n        \"num_unique_values\": 1,\n        \"samples\": [\n          \"four\"\n        ],\n        \"semantic_type\": \"\",\n        \"description\": \"\"\n      }\n    },\n    {\n      \"column\": \"horsepower\",\n      \"properties\": {\n        \"dtype\": \"number\",\n        \"std\": 25,\n        \"min\": 52,\n        \"max\": 114,\n        \"num_unique_values\": 4,\n        \"samples\": [\n          52\n        ],\n        \"semantic_type\": \"\",\n        \"description\": \"\"\n      }\n    },\n    {\n      \"column\": \"average-mileage\",\n      \"properties\": {\n        \"dtype\": \"number\",\n        \"std\": 5,\n        \"min\": 23,\n        \"max\": 37,\n        \"num_unique_values\": 4,\n        \"samples\": [\n          37\n        ],\n        \"semantic_type\": \"\",\n        \"description\": \"\"\n      }\n    },\n    {\n      \"column\": \"price\",\n      \"properties\": {\n        \"dtype\": \"number\",\n        \"std\": 2614.8623290720298,\n        \"min\": 7975.0,\n        \"max\": 13415.0,\n        \"num_unique_values\": 5,\n        \"samples\": [\n          7995.0\n        ],\n        \"semantic_type\": \"\",\n        \"description\": \"\"\n      }\n    }\n  ]\n}"
            }
          },
          "metadata": {},
          "execution_count": 36
        }
      ]
    },
    {
      "cell_type": "markdown",
      "source": [
        "Exercise 2: Replace all column values which contain ?, n.a, or NaN with suitable values and print the updated dataset.:"
      ],
      "metadata": {
        "id": "FB-hfiNh2Z42"
      }
    },
    {
      "cell_type": "code",
      "source": [
        "import pandas as pd\n",
        "import numpy as np\n",
        "\n",
        "cny = pd.read_csv(\"Automobile_data.csv\")\n",
        "cny.replace(['?', 'n.a', np.nan], inplace=True)\n",
        "\n",
        "print (cny)\n"
      ],
      "metadata": {
        "id": "n8u7K1cU2x4l",
        "colab": {
          "base_uri": "https://localhost:8080/"
        },
        "outputId": "b8bf3c37-f2c1-4917-dd4a-b3ab8cca9e97"
      },
      "execution_count": null,
      "outputs": [
        {
          "output_type": "stream",
          "name": "stdout",
          "text": [
            "    index      company   body-style  wheel-base  length engine-type  \\\n",
            "0       0  alfa-romero  convertible        88.6   168.8        dohc   \n",
            "1       1  alfa-romero  convertible        88.6   168.8        dohc   \n",
            "2       2  alfa-romero    hatchback        94.5   171.2        ohcv   \n",
            "3       3         audi        sedan        99.8   176.6         ohc   \n",
            "4       4         audi        sedan        99.4   176.6         ohc   \n",
            "..    ...          ...          ...         ...     ...         ...   \n",
            "56     81   volkswagen        sedan        97.3   171.7         ohc   \n",
            "57     82   volkswagen        sedan        97.3   171.7         ohc   \n",
            "58     86   volkswagen        sedan        97.3   171.7         ohc   \n",
            "59     87        volvo        sedan       104.3   188.8         ohc   \n",
            "60     88        volvo        wagon       104.3   188.8         ohc   \n",
            "\n",
            "   num-of-cylinders  horsepower  average-mileage    price  \n",
            "0              four         111               21  13495.0  \n",
            "1              four         111               21  16500.0  \n",
            "2               six         154               19  16500.0  \n",
            "3              four         102               24  13950.0  \n",
            "4              five         115               18  17450.0  \n",
            "..              ...         ...              ...      ...  \n",
            "56             four          85               27   7975.0  \n",
            "57             four          52               37   7995.0  \n",
            "58             four         100               26   9995.0  \n",
            "59             four         114               23  12940.0  \n",
            "60             four         114               23  13415.0  \n",
            "\n",
            "[61 rows x 10 columns]\n"
          ]
        }
      ]
    },
    {
      "cell_type": "markdown",
      "source": [
        "Exercise 5: Count total cars per company and print them\n",
        "\n",
        "\n"
      ],
      "metadata": {
        "id": "67ErI6He2wz6"
      }
    },
    {
      "cell_type": "code",
      "source": [
        "cny.company.value_counts()"
      ],
      "metadata": {
        "id": "8H6ytVXD26Ae",
        "colab": {
          "base_uri": "https://localhost:8080/"
        },
        "outputId": "a0fad5a2-daf9-4885-f964-cea8e9e79b90"
      },
      "execution_count": null,
      "outputs": [
        {
          "output_type": "execute_result",
          "data": {
            "text/plain": [
              "company\n",
              "toyota           7\n",
              "bmw              6\n",
              "mazda            5\n",
              "nissan           5\n",
              "audi             4\n",
              "mercedes-benz    4\n",
              "mitsubishi       4\n",
              "volkswagen       4\n",
              "alfa-romero      3\n",
              "chevrolet        3\n",
              "honda            3\n",
              "isuzu            3\n",
              "jaguar           3\n",
              "porsche          3\n",
              "dodge            2\n",
              "volvo            2\n",
              "Name: count, dtype: int64"
            ]
          },
          "metadata": {},
          "execution_count": 38
        }
      ]
    },
    {
      "cell_type": "markdown",
      "source": [
        "## Matplotlib Exercises"
      ],
      "metadata": {
        "id": "OcyPTwrWxdXt"
      }
    },
    {
      "cell_type": "markdown",
      "source": [
        "Use the following CSV file for this exercise. Read this file using Pandas or NumPy or using in-built matplotlib function. \\\\\n",
        "https://pynative.com/wp-content/uploads/2019/01/company_sales_data.csv"
      ],
      "metadata": {
        "id": "f0JDeA8Lxu-8"
      }
    },
    {
      "cell_type": "markdown",
      "source": [
        "Exercise 1: Read Total profit of all months and show it using a line plot \\\\\n",
        "Total profit data provided for each month. Generated line plot must include the following properties: –\n",
        "\n",
        "X label name = Month Number \\\\\n",
        "Y label name = Total profit \\\\\n",
        "\n",
        "\n"
      ],
      "metadata": {
        "id": "zYDZqjEzyoFN"
      }
    },
    {
      "cell_type": "code",
      "source": [
        "from google.colab import files\n",
        "upload = files.upload()"
      ],
      "metadata": {
        "colab": {
          "base_uri": "https://localhost:8080/",
          "height": 74
        },
        "id": "2LNqgTOkpHE4",
        "outputId": "104247f9-0131-49d3-b9c2-bf24b7316723"
      },
      "execution_count": null,
      "outputs": [
        {
          "output_type": "display_data",
          "data": {
            "text/plain": [
              "<IPython.core.display.HTML object>"
            ],
            "text/html": [
              "\n",
              "     <input type=\"file\" id=\"files-6086f4c1-3d78-4313-921f-e23f8e0b180a\" name=\"files[]\" multiple disabled\n",
              "        style=\"border:none\" />\n",
              "     <output id=\"result-6086f4c1-3d78-4313-921f-e23f8e0b180a\">\n",
              "      Upload widget is only available when the cell has been executed in the\n",
              "      current browser session. Please rerun this cell to enable.\n",
              "      </output>\n",
              "      <script>// Copyright 2017 Google LLC\n",
              "//\n",
              "// Licensed under the Apache License, Version 2.0 (the \"License\");\n",
              "// you may not use this file except in compliance with the License.\n",
              "// You may obtain a copy of the License at\n",
              "//\n",
              "//      http://www.apache.org/licenses/LICENSE-2.0\n",
              "//\n",
              "// Unless required by applicable law or agreed to in writing, software\n",
              "// distributed under the License is distributed on an \"AS IS\" BASIS,\n",
              "// WITHOUT WARRANTIES OR CONDITIONS OF ANY KIND, either express or implied.\n",
              "// See the License for the specific language governing permissions and\n",
              "// limitations under the License.\n",
              "\n",
              "/**\n",
              " * @fileoverview Helpers for google.colab Python module.\n",
              " */\n",
              "(function(scope) {\n",
              "function span(text, styleAttributes = {}) {\n",
              "  const element = document.createElement('span');\n",
              "  element.textContent = text;\n",
              "  for (const key of Object.keys(styleAttributes)) {\n",
              "    element.style[key] = styleAttributes[key];\n",
              "  }\n",
              "  return element;\n",
              "}\n",
              "\n",
              "// Max number of bytes which will be uploaded at a time.\n",
              "const MAX_PAYLOAD_SIZE = 100 * 1024;\n",
              "\n",
              "function _uploadFiles(inputId, outputId) {\n",
              "  const steps = uploadFilesStep(inputId, outputId);\n",
              "  const outputElement = document.getElementById(outputId);\n",
              "  // Cache steps on the outputElement to make it available for the next call\n",
              "  // to uploadFilesContinue from Python.\n",
              "  outputElement.steps = steps;\n",
              "\n",
              "  return _uploadFilesContinue(outputId);\n",
              "}\n",
              "\n",
              "// This is roughly an async generator (not supported in the browser yet),\n",
              "// where there are multiple asynchronous steps and the Python side is going\n",
              "// to poll for completion of each step.\n",
              "// This uses a Promise to block the python side on completion of each step,\n",
              "// then passes the result of the previous step as the input to the next step.\n",
              "function _uploadFilesContinue(outputId) {\n",
              "  const outputElement = document.getElementById(outputId);\n",
              "  const steps = outputElement.steps;\n",
              "\n",
              "  const next = steps.next(outputElement.lastPromiseValue);\n",
              "  return Promise.resolve(next.value.promise).then((value) => {\n",
              "    // Cache the last promise value to make it available to the next\n",
              "    // step of the generator.\n",
              "    outputElement.lastPromiseValue = value;\n",
              "    return next.value.response;\n",
              "  });\n",
              "}\n",
              "\n",
              "/**\n",
              " * Generator function which is called between each async step of the upload\n",
              " * process.\n",
              " * @param {string} inputId Element ID of the input file picker element.\n",
              " * @param {string} outputId Element ID of the output display.\n",
              " * @return {!Iterable<!Object>} Iterable of next steps.\n",
              " */\n",
              "function* uploadFilesStep(inputId, outputId) {\n",
              "  const inputElement = document.getElementById(inputId);\n",
              "  inputElement.disabled = false;\n",
              "\n",
              "  const outputElement = document.getElementById(outputId);\n",
              "  outputElement.innerHTML = '';\n",
              "\n",
              "  const pickedPromise = new Promise((resolve) => {\n",
              "    inputElement.addEventListener('change', (e) => {\n",
              "      resolve(e.target.files);\n",
              "    });\n",
              "  });\n",
              "\n",
              "  const cancel = document.createElement('button');\n",
              "  inputElement.parentElement.appendChild(cancel);\n",
              "  cancel.textContent = 'Cancel upload';\n",
              "  const cancelPromise = new Promise((resolve) => {\n",
              "    cancel.onclick = () => {\n",
              "      resolve(null);\n",
              "    };\n",
              "  });\n",
              "\n",
              "  // Wait for the user to pick the files.\n",
              "  const files = yield {\n",
              "    promise: Promise.race([pickedPromise, cancelPromise]),\n",
              "    response: {\n",
              "      action: 'starting',\n",
              "    }\n",
              "  };\n",
              "\n",
              "  cancel.remove();\n",
              "\n",
              "  // Disable the input element since further picks are not allowed.\n",
              "  inputElement.disabled = true;\n",
              "\n",
              "  if (!files) {\n",
              "    return {\n",
              "      response: {\n",
              "        action: 'complete',\n",
              "      }\n",
              "    };\n",
              "  }\n",
              "\n",
              "  for (const file of files) {\n",
              "    const li = document.createElement('li');\n",
              "    li.append(span(file.name, {fontWeight: 'bold'}));\n",
              "    li.append(span(\n",
              "        `(${file.type || 'n/a'}) - ${file.size} bytes, ` +\n",
              "        `last modified: ${\n",
              "            file.lastModifiedDate ? file.lastModifiedDate.toLocaleDateString() :\n",
              "                                    'n/a'} - `));\n",
              "    const percent = span('0% done');\n",
              "    li.appendChild(percent);\n",
              "\n",
              "    outputElement.appendChild(li);\n",
              "\n",
              "    const fileDataPromise = new Promise((resolve) => {\n",
              "      const reader = new FileReader();\n",
              "      reader.onload = (e) => {\n",
              "        resolve(e.target.result);\n",
              "      };\n",
              "      reader.readAsArrayBuffer(file);\n",
              "    });\n",
              "    // Wait for the data to be ready.\n",
              "    let fileData = yield {\n",
              "      promise: fileDataPromise,\n",
              "      response: {\n",
              "        action: 'continue',\n",
              "      }\n",
              "    };\n",
              "\n",
              "    // Use a chunked sending to avoid message size limits. See b/62115660.\n",
              "    let position = 0;\n",
              "    do {\n",
              "      const length = Math.min(fileData.byteLength - position, MAX_PAYLOAD_SIZE);\n",
              "      const chunk = new Uint8Array(fileData, position, length);\n",
              "      position += length;\n",
              "\n",
              "      const base64 = btoa(String.fromCharCode.apply(null, chunk));\n",
              "      yield {\n",
              "        response: {\n",
              "          action: 'append',\n",
              "          file: file.name,\n",
              "          data: base64,\n",
              "        },\n",
              "      };\n",
              "\n",
              "      let percentDone = fileData.byteLength === 0 ?\n",
              "          100 :\n",
              "          Math.round((position / fileData.byteLength) * 100);\n",
              "      percent.textContent = `${percentDone}% done`;\n",
              "\n",
              "    } while (position < fileData.byteLength);\n",
              "  }\n",
              "\n",
              "  // All done.\n",
              "  yield {\n",
              "    response: {\n",
              "      action: 'complete',\n",
              "    }\n",
              "  };\n",
              "}\n",
              "\n",
              "scope.google = scope.google || {};\n",
              "scope.google.colab = scope.google.colab || {};\n",
              "scope.google.colab._files = {\n",
              "  _uploadFiles,\n",
              "  _uploadFilesContinue,\n",
              "};\n",
              "})(self);\n",
              "</script> "
            ]
          },
          "metadata": {}
        },
        {
          "output_type": "stream",
          "name": "stdout",
          "text": [
            "Saving company_sales_data.csv to company_sales_data.csv\n"
          ]
        }
      ]
    },
    {
      "cell_type": "code",
      "source": [
        "import pandas as pd\n",
        "import matplotlib.pyplot as plt\n",
        "\n",
        "%matplotlib inline\n",
        "sale = pd.read_csv(\"company_sales_data.csv\")\n",
        "\n",
        "plt.plot(sale['month_number'],sale['total_profit'])\n",
        "plt.xlabel(\"Month Number\")\n",
        "plt.ylabel(\"Total profit\")\n"
      ],
      "metadata": {
        "colab": {
          "base_uri": "https://localhost:8080/",
          "height": 467
        },
        "id": "KgKpJhoQpG5o",
        "outputId": "951716b0-4fc9-4303-dc1b-f92bbf4f757b"
      },
      "execution_count": null,
      "outputs": [
        {
          "output_type": "execute_result",
          "data": {
            "text/plain": [
              "Text(0, 0.5, 'Total profit')"
            ]
          },
          "metadata": {},
          "execution_count": 40
        },
        {
          "output_type": "display_data",
          "data": {
            "text/plain": [
              "<Figure size 640x480 with 1 Axes>"
            ],
            "image/png": "[encoded data removed]"
          },
          "metadata": {}
        }
      ]
    },
    {
      "cell_type": "markdown",
      "source": [
        "Exercise : Read face cream and facewash product sales data and show it using the bar chart \\\\\n",
        "The bar chart should display the number of units sold per month for each product. \\\\\n",
        "Add a separate bar for each product in the same chart."
      ],
      "metadata": {
        "id": "muEpI78E0LjF"
      }
    },
    {
      "cell_type": "code",
      "source": [
        "b1 = plt.bar(sale['month_number'],sale['facecream'])\n",
        "b2 = plt.bar(sale['month_number'],sale['facewash'])\n",
        "\n",
        "plt.xlabel(\"Month Number\")\n",
        "plt.ylabel(\"Units sold per month\")\n",
        "plt.legend([b1,b2],['facecream','facewash'])\n"
      ],
      "metadata": {
        "id": "JmR3PAE71gIi",
        "colab": {
          "base_uri": "https://localhost:8080/",
          "height": 467
        },
        "outputId": "0f4320ad-a39b-4d62-d395-af28ab1d3a77"
      },
      "execution_count": null,
      "outputs": [
        {
          "output_type": "execute_result",
          "data": {
            "text/plain": [
              "<matplotlib.legend.Legend at 0x7aa860452350>"
            ]
          },
          "metadata": {},
          "execution_count": 41
        },
        {
          "output_type": "display_data",
          "data": {
            "text/plain": [
              "<Figure size 640x480 with 1 Axes>"
            ],
            "image/png": "[encoded data removed]"
          },
          "metadata": {}
        }
      ]
    }
  ]
}